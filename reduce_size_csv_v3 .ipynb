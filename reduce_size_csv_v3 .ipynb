{
 "cells": [
  {
   "cell_type": "code",
   "execution_count": null,
   "id": "a721b684",
   "metadata": {},
   "outputs": [],
   "source": [
    "## This requires pandas and jupyter to be installed in pipenv shell"
   ]
  },
  {
   "cell_type": "code",
   "execution_count": null,
   "id": "0d36b4a8",
   "metadata": {},
   "outputs": [],
   "source": [
    "## This will make halfed sized reductions in the .csv \n",
    "## equal to the number you set as number_of_reductions"
   ]
  },
  {
   "cell_type": "code",
   "execution_count": null,
   "id": "fc671399",
   "metadata": {},
   "outputs": [],
   "source": [
    "import pandas as pd"
   ]
  },
  {
   "cell_type": "code",
   "execution_count": null,
   "id": "88f166fb",
   "metadata": {},
   "outputs": [],
   "source": [
    "df = pd.read_csv(\"YOUR_FILE.csv\")"
   ]
  },
  {
   "cell_type": "code",
   "execution_count": null,
   "id": "c7eeec23",
   "metadata": {},
   "outputs": [],
   "source": [
    "df.head()"
   ]
  },
  {
   "cell_type": "code",
   "execution_count": null,
   "id": "bac3103d",
   "metadata": {},
   "outputs": [],
   "source": [
    "df.shape"
   ]
  },
  {
   "cell_type": "code",
   "execution_count": null,
   "id": "56cc5caf",
   "metadata": {},
   "outputs": [],
   "source": [
    "file_counter = 1"
   ]
  },
  {
   "cell_type": "code",
   "execution_count": null,
   "id": "6fe4e3a9",
   "metadata": {},
   "outputs": [],
   "source": [
    "def reduce_csv(df, file_counter):\n",
    "    print(\"Starting...\")\n",
    "\n",
    "    # inspection shape\n",
    "    print(\"Starting shape:\", df.shape)\n",
    "\n",
    "    # pick where to start and stop\n",
    "    # from halfway through, to the end\n",
    "    from_here = int( df.shape[0] / 2 )\n",
    "    to_here = df.shape[0]\n",
    "\n",
    "    print(\"Working...\")\n",
    "\n",
    "    # drop rows from_here to_here \n",
    "    df = df.drop(df.index[from_here:to_here])\n",
    "\n",
    "    print(\"Still Working...\")\n",
    "    \n",
    "    # file name\n",
    "    file_name = f'smaller_{file_counter}.csv'\n",
    "    \n",
    "    # make csv\n",
    "    df.to_csv( file_name, index=False, header=True ) \n",
    "    \n",
    "    print(\"Made: \", file_name)\n",
    "\n",
    "    # increment file counter\n",
    "    file_counter += 1\n",
    "\n",
    "    # inspection shape\n",
    "    print(\"Ending shape:\", df.shape)\n",
    "\n",
    "    print(\"All Done!\")\n",
    "    \n",
    "    return df, file_counter"
   ]
  },
  {
   "cell_type": "code",
   "execution_count": null,
   "id": "41ecfbd1",
   "metadata": {},
   "outputs": [],
   "source": [
    "number_of_reductions = 6"
   ]
  },
  {
   "cell_type": "code",
   "execution_count": null,
   "id": "d4893c2a",
   "metadata": {},
   "outputs": [],
   "source": [
    "for i in range(number_of_reductions):\n",
    "    df, file_counter = reduce_csv(df, file_counter)"
   ]
  },
  {
   "cell_type": "code",
   "execution_count": null,
   "id": "3fbf211a",
   "metadata": {},
   "outputs": [],
   "source": [
    "del df"
   ]
  },
  {
   "cell_type": "code",
   "execution_count": null,
   "id": "8360e19b",
   "metadata": {},
   "outputs": [],
   "source": []
  }
 ],
 "metadata": {
  "kernelspec": {
   "display_name": "Python 3 (ipykernel)",
   "language": "python",
   "name": "python3"
  },
  "language_info": {
   "codemirror_mode": {
    "name": "ipython",
    "version": 3
   },
   "file_extension": ".py",
   "mimetype": "text/x-python",
   "name": "python",
   "nbconvert_exporter": "python",
   "pygments_lexer": "ipython3",
   "version": "3.10.0"
  }
 },
 "nbformat": 4,
 "nbformat_minor": 5
}
